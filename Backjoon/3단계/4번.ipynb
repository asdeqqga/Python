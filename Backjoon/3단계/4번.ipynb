{
 "cells": [
  {
   "cell_type": "code",
   "execution_count": null,
   "metadata": {},
   "outputs": [],
   "source": [
    "# 첫째 줄에는 영수증에 적힌 총 금액 X가 주어진다.\n",
    "total= int(input())\n",
    " \n",
    "# 둘째 줄에는 영수증에 적힌 구매한 물건의 종류의 수 N이 주어진다. \n",
    "type= int(input())\n",
    " \n",
    "sum=0 # 총 금액\n",
    " \n",
    "# 이후 N개의 줄에는 각 물건의 가격 a와 개수 b가 공백을 사이에 두고 주어진다.\n",
    "for i in range(type):\n",
    "    a,b= map(int,input().split())\n",
    "    sum += a*b\n",
    " \n",
    "# 총 금액과 영수증 금액 같은지 확인     \n",
    "if total==sum: print(\"Yes\")\n",
    "else: print(\"No\")"
   ]
  }
 ],
 "metadata": {
  "kernelspec": {
   "display_name": "Python 3",
   "language": "python",
   "name": "python3"
  },
  "language_info": {
   "name": "python",
   "version": "3.11.1 (tags/v3.11.1:a7a450f, Dec  6 2022, 19:58:39) [MSC v.1934 64 bit (AMD64)]"
  },
  "orig_nbformat": 4,
  "vscode": {
   "interpreter": {
    "hash": "5868237a719c5308d34c8911a17794e6baa898a055f8bd5fbd9df195d03bb563"
   }
  }
 },
 "nbformat": 4,
 "nbformat_minor": 2
}
