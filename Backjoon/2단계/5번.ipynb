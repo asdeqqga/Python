{
 "cells": [
  {
   "cell_type": "code",
   "execution_count": 10,
   "metadata": {},
   "outputs": [
    {
     "ename": "ValueError",
     "evalue": "not enough values to unpack (expected 2, got 1)",
     "output_type": "error",
     "traceback": [
      "\u001b[1;31m---------------------------------------------------------------------------\u001b[0m",
      "\u001b[1;31mValueError\u001b[0m                                Traceback (most recent call last)",
      "Cell \u001b[1;32mIn[10], line 6\u001b[0m\n\u001b[0;32m      1\u001b[0m \u001b[39m\"\"\"\u001b[39;00m\n\u001b[0;32m      2\u001b[0m \u001b[39m날짜 : 2023/01/03\u001b[39;00m\n\u001b[0;32m      3\u001b[0m \u001b[39m이름 : 라성준\u001b[39;00m\n\u001b[0;32m      4\u001b[0m \u001b[39m내용 : 백준 2884번\u001b[39;00m\n\u001b[0;32m      5\u001b[0m \u001b[39m\"\"\"\u001b[39;00m\n\u001b[1;32m----> 6\u001b[0m H, M \u001b[39m=\u001b[39m \u001b[39mmap\u001b[39m(\u001b[39mint\u001b[39m,\u001b[39minput\u001b[39m()\u001b[39m.\u001b[39msplit())\n\u001b[0;32m      7\u001b[0m ch_ \u001b[39m=\u001b[39m M\u001b[39m-\u001b[39m\u001b[39m45\u001b[39m           \u001b[39m# 현재 시간(분)에서 45분을 뺀 것이\u001b[39;00m\n\u001b[0;32m      8\u001b[0m \u001b[39mif\u001b[39;00m ch_\u001b[39m<\u001b[39m\u001b[39m0\u001b[39m:            \u001b[39m# 음수면 \u001b[39;00m\n",
      "\u001b[1;31mValueError\u001b[0m: not enough values to unpack (expected 2, got 1)"
     ]
    }
   ],
   "source": [
    "\"\"\"\n",
    "날짜 : 2023/01/03\n",
    "이름 : 라성준\n",
    "내용 : 백준 2884번\n",
    "\"\"\"\n",
    "H, M = map(int,input().split())\n",
    "ch_ = M-45           # 현재 시간(분)에서 45분을 뺀 것이\n",
    "if ch_<0:            # 음수면 \n",
    "    new_H = H-1      # 시간대 -1\n",
    "    new_M = 60+ch_   # 분 + 뺀만큼\n",
    "else:                # 양수면\n",
    "    new_H = H        # 시간대 유지\n",
    "    new_M = ch_      # 분 추가\n",
    "if new_H<0:          # 수정 후 시간대가 음수인 경우는 23시로 수정\n",
    "    new_H=23\n",
    "print(new_H,new_M)"
   ]
  },
  {
   "cell_type": "code",
   "execution_count": null,
   "metadata": {},
   "outputs": [],
   "source": []
  }
 ],
 "metadata": {
  "kernelspec": {
   "display_name": "Python 3",
   "language": "python",
   "name": "python3"
  },
  "language_info": {
   "codemirror_mode": {
    "name": "ipython",
    "version": 3
   },
   "file_extension": ".py",
   "mimetype": "text/x-python",
   "name": "python",
   "nbconvert_exporter": "python",
   "pygments_lexer": "ipython3",
   "version": "3.11.1 (tags/v3.11.1:a7a450f, Dec  6 2022, 19:58:39) [MSC v.1934 64 bit (AMD64)]"
  },
  "orig_nbformat": 4,
  "vscode": {
   "interpreter": {
    "hash": "5868237a719c5308d34c8911a17794e6baa898a055f8bd5fbd9df195d03bb563"
   }
  }
 },
 "nbformat": 4,
 "nbformat_minor": 2
}
